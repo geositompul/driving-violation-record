{
 "cells": [
  {
   "cell_type": "markdown",
   "id": "e2c43544",
   "metadata": {},
   "source": [
    "# Analyzing Driving Violation Records"
   ]
  },
  {
   "cell_type": "markdown",
   "id": "bbd4092c",
   "metadata": {},
   "source": [
    "The purpose of this project is to analyze the driving violation records in Rhode Island, USA. <p>\n",
    "The dataset consists of 91740 driving violation records for 6 districts that were recorded from 2005 until 2015. <p>\n",
    "The dataset is downloaded from the <a href=\"https://assets.datacamp.com/production/repositories/1497/datasets/62bd9feef451860db02d26553613a299721882e8/police.csv\">DataCamp</a>. </p>"
   ]
  },
  {
   "cell_type": "markdown",
   "id": "4dc0994f",
   "metadata": {},
   "source": [
    "# Import Library"
   ]
  },
  {
   "cell_type": "code",
   "execution_count": 64,
   "id": "48632afc",
   "metadata": {},
   "outputs": [],
   "source": [
    "import pandas as pd\n",
    "import matplotlib.pyplot as plt\n",
    "import numpy as np"
   ]
  },
  {
   "cell_type": "markdown",
   "id": "97d3d567",
   "metadata": {},
   "source": [
    "# Import dataset"
   ]
  },
  {
   "cell_type": "code",
   "execution_count": 96,
   "id": "28629655",
   "metadata": {},
   "outputs": [
    {
     "data": {
      "text/html": [
       "<div>\n",
       "<style scoped>\n",
       "    .dataframe tbody tr th:only-of-type {\n",
       "        vertical-align: middle;\n",
       "    }\n",
       "\n",
       "    .dataframe tbody tr th {\n",
       "        vertical-align: top;\n",
       "    }\n",
       "\n",
       "    .dataframe thead th {\n",
       "        text-align: right;\n",
       "    }\n",
       "</style>\n",
       "<table border=\"1\" class=\"dataframe\">\n",
       "  <thead>\n",
       "    <tr style=\"text-align: right;\">\n",
       "      <th></th>\n",
       "      <th>state</th>\n",
       "      <th>stop_date</th>\n",
       "      <th>stop_time</th>\n",
       "      <th>county_name</th>\n",
       "      <th>driver_gender</th>\n",
       "      <th>driver_race</th>\n",
       "      <th>violation_raw</th>\n",
       "      <th>violation</th>\n",
       "      <th>search_conducted</th>\n",
       "      <th>search_type</th>\n",
       "      <th>stop_outcome</th>\n",
       "      <th>is_arrested</th>\n",
       "      <th>stop_duration</th>\n",
       "      <th>drugs_related_stop</th>\n",
       "      <th>district</th>\n",
       "    </tr>\n",
       "  </thead>\n",
       "  <tbody>\n",
       "    <tr>\n",
       "      <th>0</th>\n",
       "      <td>RI</td>\n",
       "      <td>2005-01-04</td>\n",
       "      <td>12:55</td>\n",
       "      <td>NaN</td>\n",
       "      <td>M</td>\n",
       "      <td>White</td>\n",
       "      <td>Equipment/Inspection Violation</td>\n",
       "      <td>Equipment</td>\n",
       "      <td>False</td>\n",
       "      <td>NaN</td>\n",
       "      <td>Citation</td>\n",
       "      <td>False</td>\n",
       "      <td>0-15 Min</td>\n",
       "      <td>False</td>\n",
       "      <td>Zone X4</td>\n",
       "    </tr>\n",
       "    <tr>\n",
       "      <th>1</th>\n",
       "      <td>RI</td>\n",
       "      <td>2005-01-23</td>\n",
       "      <td>23:15</td>\n",
       "      <td>NaN</td>\n",
       "      <td>M</td>\n",
       "      <td>White</td>\n",
       "      <td>Speeding</td>\n",
       "      <td>Speeding</td>\n",
       "      <td>False</td>\n",
       "      <td>NaN</td>\n",
       "      <td>Citation</td>\n",
       "      <td>False</td>\n",
       "      <td>0-15 Min</td>\n",
       "      <td>False</td>\n",
       "      <td>Zone K3</td>\n",
       "    </tr>\n",
       "    <tr>\n",
       "      <th>2</th>\n",
       "      <td>RI</td>\n",
       "      <td>2005-02-17</td>\n",
       "      <td>04:15</td>\n",
       "      <td>NaN</td>\n",
       "      <td>M</td>\n",
       "      <td>White</td>\n",
       "      <td>Speeding</td>\n",
       "      <td>Speeding</td>\n",
       "      <td>False</td>\n",
       "      <td>NaN</td>\n",
       "      <td>Citation</td>\n",
       "      <td>False</td>\n",
       "      <td>0-15 Min</td>\n",
       "      <td>False</td>\n",
       "      <td>Zone X4</td>\n",
       "    </tr>\n",
       "    <tr>\n",
       "      <th>3</th>\n",
       "      <td>RI</td>\n",
       "      <td>2005-02-20</td>\n",
       "      <td>17:15</td>\n",
       "      <td>NaN</td>\n",
       "      <td>M</td>\n",
       "      <td>White</td>\n",
       "      <td>Call for Service</td>\n",
       "      <td>Other</td>\n",
       "      <td>False</td>\n",
       "      <td>NaN</td>\n",
       "      <td>Arrest Driver</td>\n",
       "      <td>True</td>\n",
       "      <td>16-30 Min</td>\n",
       "      <td>False</td>\n",
       "      <td>Zone X1</td>\n",
       "    </tr>\n",
       "    <tr>\n",
       "      <th>4</th>\n",
       "      <td>RI</td>\n",
       "      <td>2005-02-24</td>\n",
       "      <td>01:20</td>\n",
       "      <td>NaN</td>\n",
       "      <td>F</td>\n",
       "      <td>White</td>\n",
       "      <td>Speeding</td>\n",
       "      <td>Speeding</td>\n",
       "      <td>False</td>\n",
       "      <td>NaN</td>\n",
       "      <td>Citation</td>\n",
       "      <td>False</td>\n",
       "      <td>0-15 Min</td>\n",
       "      <td>False</td>\n",
       "      <td>Zone X3</td>\n",
       "    </tr>\n",
       "  </tbody>\n",
       "</table>\n",
       "</div>"
      ],
      "text/plain": [
       "  state   stop_date stop_time  county_name driver_gender driver_race  \\\n",
       "0    RI  2005-01-04     12:55          NaN             M       White   \n",
       "1    RI  2005-01-23     23:15          NaN             M       White   \n",
       "2    RI  2005-02-17     04:15          NaN             M       White   \n",
       "3    RI  2005-02-20     17:15          NaN             M       White   \n",
       "4    RI  2005-02-24     01:20          NaN             F       White   \n",
       "\n",
       "                    violation_raw  violation  search_conducted search_type  \\\n",
       "0  Equipment/Inspection Violation  Equipment             False         NaN   \n",
       "1                        Speeding   Speeding             False         NaN   \n",
       "2                        Speeding   Speeding             False         NaN   \n",
       "3                Call for Service      Other             False         NaN   \n",
       "4                        Speeding   Speeding             False         NaN   \n",
       "\n",
       "    stop_outcome is_arrested stop_duration  drugs_related_stop district  \n",
       "0       Citation       False      0-15 Min               False  Zone X4  \n",
       "1       Citation       False      0-15 Min               False  Zone K3  \n",
       "2       Citation       False      0-15 Min               False  Zone X4  \n",
       "3  Arrest Driver        True     16-30 Min               False  Zone X1  \n",
       "4       Citation       False      0-15 Min               False  Zone X3  "
      ]
     },
     "execution_count": 96,
     "metadata": {},
     "output_type": "execute_result"
    }
   ],
   "source": [
    "police = pd.read_csv('./datasets/police.csv')\n",
    "police.head()"
   ]
  },
  {
   "cell_type": "markdown",
   "id": "fe9adb6d",
   "metadata": {},
   "source": [
    "# Data Inspection"
   ]
  },
  {
   "cell_type": "markdown",
   "id": "79fb74a9",
   "metadata": {},
   "source": [
    "### a. Null data inspection"
   ]
  },
  {
   "cell_type": "code",
   "execution_count": 66,
   "id": "4ee80e21",
   "metadata": {},
   "outputs": [
    {
     "data": {
      "text/plain": [
       "state                     0\n",
       "stop_date                 0\n",
       "stop_time                 0\n",
       "county_name           91741\n",
       "driver_gender          5205\n",
       "driver_race            5202\n",
       "violation_raw          5202\n",
       "violation              5202\n",
       "search_conducted          0\n",
       "search_type           88434\n",
       "stop_outcome           5202\n",
       "is_arrested            5202\n",
       "stop_duration          5202\n",
       "drugs_related_stop        0\n",
       "district                  0\n",
       "dtype: int64"
      ]
     },
     "execution_count": 66,
     "metadata": {},
     "output_type": "execute_result"
    }
   ],
   "source": [
    "police.isna().sum()"
   ]
  },
  {
   "cell_type": "markdown",
   "id": "891f2fa6",
   "metadata": {},
   "source": [
    "<code>county_name</code> only contain Null value <p>\n",
    "<code>state</code> only contain one value <p>\n",
    "<code>search_type</code> majority is Null because <code>search_type</code> will not Null if <code>search_conducted</code> = True. <code>search_conducted</code> = True if it's necessary to conduct search\n"
   ]
  },
  {
   "cell_type": "markdown",
   "id": "c883fb91",
   "metadata": {},
   "source": [
    "### b. Datatype inspection"
   ]
  },
  {
   "cell_type": "code",
   "execution_count": 67,
   "id": "19d0c546",
   "metadata": {},
   "outputs": [
    {
     "name": "stdout",
     "output_type": "stream",
     "text": [
      "<class 'pandas.core.frame.DataFrame'>\n",
      "RangeIndex: 91741 entries, 0 to 91740\n",
      "Data columns (total 15 columns):\n",
      " #   Column              Non-Null Count  Dtype  \n",
      "---  ------              --------------  -----  \n",
      " 0   state               91741 non-null  object \n",
      " 1   stop_date           91741 non-null  object \n",
      " 2   stop_time           91741 non-null  object \n",
      " 3   county_name         0 non-null      float64\n",
      " 4   driver_gender       86536 non-null  object \n",
      " 5   driver_race         86539 non-null  object \n",
      " 6   violation_raw       86539 non-null  object \n",
      " 7   violation           86539 non-null  object \n",
      " 8   search_conducted    91741 non-null  bool   \n",
      " 9   search_type         3307 non-null   object \n",
      " 10  stop_outcome        86539 non-null  object \n",
      " 11  is_arrested         86539 non-null  object \n",
      " 12  stop_duration       86539 non-null  object \n",
      " 13  drugs_related_stop  91741 non-null  bool   \n",
      " 14  district            91741 non-null  object \n",
      "dtypes: bool(2), float64(1), object(12)\n",
      "memory usage: 9.3+ MB\n"
     ]
    }
   ],
   "source": [
    "police.info()"
   ]
  },
  {
   "cell_type": "markdown",
   "id": "9650e4ef",
   "metadata": {},
   "source": [
    "<code>is_arrested</code> dtype is object, it should be bool."
   ]
  },
  {
   "cell_type": "markdown",
   "id": "e2caf4a3",
   "metadata": {},
   "source": [
    "# Data Cleaning"
   ]
  },
  {
   "cell_type": "markdown",
   "id": "59d61e92",
   "metadata": {},
   "source": [
    "### a. Drop column\n",
    "all of <code>county_name</code> column is null and state column only have 1 value for all row. "
   ]
  },
  {
   "cell_type": "code",
   "execution_count": 68,
   "id": "5f229a1d",
   "metadata": {},
   "outputs": [
    {
     "data": {
      "text/html": [
       "<div>\n",
       "<style scoped>\n",
       "    .dataframe tbody tr th:only-of-type {\n",
       "        vertical-align: middle;\n",
       "    }\n",
       "\n",
       "    .dataframe tbody tr th {\n",
       "        vertical-align: top;\n",
       "    }\n",
       "\n",
       "    .dataframe thead th {\n",
       "        text-align: right;\n",
       "    }\n",
       "</style>\n",
       "<table border=\"1\" class=\"dataframe\">\n",
       "  <thead>\n",
       "    <tr style=\"text-align: right;\">\n",
       "      <th></th>\n",
       "      <th>stop_date</th>\n",
       "      <th>stop_time</th>\n",
       "      <th>driver_gender</th>\n",
       "      <th>driver_race</th>\n",
       "      <th>violation_raw</th>\n",
       "      <th>violation</th>\n",
       "      <th>search_conducted</th>\n",
       "      <th>search_type</th>\n",
       "      <th>stop_outcome</th>\n",
       "      <th>is_arrested</th>\n",
       "      <th>stop_duration</th>\n",
       "      <th>drugs_related_stop</th>\n",
       "      <th>district</th>\n",
       "    </tr>\n",
       "  </thead>\n",
       "  <tbody>\n",
       "    <tr>\n",
       "      <th>0</th>\n",
       "      <td>2005-01-04</td>\n",
       "      <td>12:55</td>\n",
       "      <td>M</td>\n",
       "      <td>White</td>\n",
       "      <td>Equipment/Inspection Violation</td>\n",
       "      <td>Equipment</td>\n",
       "      <td>False</td>\n",
       "      <td>NaN</td>\n",
       "      <td>Citation</td>\n",
       "      <td>False</td>\n",
       "      <td>0-15 Min</td>\n",
       "      <td>False</td>\n",
       "      <td>Zone X4</td>\n",
       "    </tr>\n",
       "    <tr>\n",
       "      <th>1</th>\n",
       "      <td>2005-01-23</td>\n",
       "      <td>23:15</td>\n",
       "      <td>M</td>\n",
       "      <td>White</td>\n",
       "      <td>Speeding</td>\n",
       "      <td>Speeding</td>\n",
       "      <td>False</td>\n",
       "      <td>NaN</td>\n",
       "      <td>Citation</td>\n",
       "      <td>False</td>\n",
       "      <td>0-15 Min</td>\n",
       "      <td>False</td>\n",
       "      <td>Zone K3</td>\n",
       "    </tr>\n",
       "    <tr>\n",
       "      <th>2</th>\n",
       "      <td>2005-02-17</td>\n",
       "      <td>04:15</td>\n",
       "      <td>M</td>\n",
       "      <td>White</td>\n",
       "      <td>Speeding</td>\n",
       "      <td>Speeding</td>\n",
       "      <td>False</td>\n",
       "      <td>NaN</td>\n",
       "      <td>Citation</td>\n",
       "      <td>False</td>\n",
       "      <td>0-15 Min</td>\n",
       "      <td>False</td>\n",
       "      <td>Zone X4</td>\n",
       "    </tr>\n",
       "    <tr>\n",
       "      <th>3</th>\n",
       "      <td>2005-02-20</td>\n",
       "      <td>17:15</td>\n",
       "      <td>M</td>\n",
       "      <td>White</td>\n",
       "      <td>Call for Service</td>\n",
       "      <td>Other</td>\n",
       "      <td>False</td>\n",
       "      <td>NaN</td>\n",
       "      <td>Arrest Driver</td>\n",
       "      <td>True</td>\n",
       "      <td>16-30 Min</td>\n",
       "      <td>False</td>\n",
       "      <td>Zone X1</td>\n",
       "    </tr>\n",
       "    <tr>\n",
       "      <th>4</th>\n",
       "      <td>2005-02-24</td>\n",
       "      <td>01:20</td>\n",
       "      <td>F</td>\n",
       "      <td>White</td>\n",
       "      <td>Speeding</td>\n",
       "      <td>Speeding</td>\n",
       "      <td>False</td>\n",
       "      <td>NaN</td>\n",
       "      <td>Citation</td>\n",
       "      <td>False</td>\n",
       "      <td>0-15 Min</td>\n",
       "      <td>False</td>\n",
       "      <td>Zone X3</td>\n",
       "    </tr>\n",
       "  </tbody>\n",
       "</table>\n",
       "</div>"
      ],
      "text/plain": [
       "    stop_date stop_time driver_gender driver_race  \\\n",
       "0  2005-01-04     12:55             M       White   \n",
       "1  2005-01-23     23:15             M       White   \n",
       "2  2005-02-17     04:15             M       White   \n",
       "3  2005-02-20     17:15             M       White   \n",
       "4  2005-02-24     01:20             F       White   \n",
       "\n",
       "                    violation_raw  violation  search_conducted search_type  \\\n",
       "0  Equipment/Inspection Violation  Equipment             False         NaN   \n",
       "1                        Speeding   Speeding             False         NaN   \n",
       "2                        Speeding   Speeding             False         NaN   \n",
       "3                Call for Service      Other             False         NaN   \n",
       "4                        Speeding   Speeding             False         NaN   \n",
       "\n",
       "    stop_outcome is_arrested stop_duration  drugs_related_stop district  \n",
       "0       Citation       False      0-15 Min               False  Zone X4  \n",
       "1       Citation       False      0-15 Min               False  Zone K3  \n",
       "2       Citation       False      0-15 Min               False  Zone X4  \n",
       "3  Arrest Driver        True     16-30 Min               False  Zone X1  \n",
       "4       Citation       False      0-15 Min               False  Zone X3  "
      ]
     },
     "execution_count": 68,
     "metadata": {},
     "output_type": "execute_result"
    }
   ],
   "source": [
    "police.drop(['county_name', 'state'], axis= 1, inplace= True)\n",
    "police.head()"
   ]
  },
  {
   "cell_type": "markdown",
   "id": "689ffb4c",
   "metadata": {},
   "source": [
    "### b. Drop NaN value subsets to driver_gender\n",
    "<code>driver_gender</code> is important columns for further analysis and it's only small percentage that have Null value. Drop every row with <code>drive_gender</code> is Null/NaN"
   ]
  },
  {
   "cell_type": "code",
   "execution_count": 69,
   "id": "4167d861",
   "metadata": {},
   "outputs": [
    {
     "data": {
      "text/plain": [
       "stop_date                 0\n",
       "stop_time                 0\n",
       "driver_gender             0\n",
       "driver_race               0\n",
       "violation_raw             0\n",
       "violation                 0\n",
       "search_conducted          0\n",
       "search_type           83229\n",
       "stop_outcome              0\n",
       "is_arrested               0\n",
       "stop_duration             0\n",
       "drugs_related_stop        0\n",
       "district                  0\n",
       "dtype: int64"
      ]
     },
     "execution_count": 69,
     "metadata": {},
     "output_type": "execute_result"
    }
   ],
   "source": [
    "police.dropna(subset= ['driver_gender'], axis= 0, inplace= True)\n",
    "police.isnull().sum()"
   ]
  },
  {
   "cell_type": "markdown",
   "id": "ff9737ae",
   "metadata": {},
   "source": [
    "### c. Datatype cleaning\n",
    "<code>is_arrested</code> columns datatype is object but the value is bool. Change <code>is_arrested</code> columns datatype into bool."
   ]
  },
  {
   "cell_type": "code",
   "execution_count": 70,
   "id": "4c7f6560",
   "metadata": {},
   "outputs": [
    {
     "name": "stdout",
     "output_type": "stream",
     "text": [
      "<class 'pandas.core.frame.DataFrame'>\n",
      "Int64Index: 86536 entries, 0 to 91740\n",
      "Data columns (total 13 columns):\n",
      " #   Column              Non-Null Count  Dtype \n",
      "---  ------              --------------  ----- \n",
      " 0   stop_date           86536 non-null  object\n",
      " 1   stop_time           86536 non-null  object\n",
      " 2   driver_gender       86536 non-null  object\n",
      " 3   driver_race         86536 non-null  object\n",
      " 4   violation_raw       86536 non-null  object\n",
      " 5   violation           86536 non-null  object\n",
      " 6   search_conducted    86536 non-null  bool  \n",
      " 7   search_type         3307 non-null   object\n",
      " 8   stop_outcome        86536 non-null  object\n",
      " 9   is_arrested         86536 non-null  bool  \n",
      " 10  stop_duration       86536 non-null  object\n",
      " 11  drugs_related_stop  86536 non-null  bool  \n",
      " 12  district            86536 non-null  object\n",
      "dtypes: bool(3), object(10)\n",
      "memory usage: 7.5+ MB\n"
     ]
    }
   ],
   "source": [
    "police.is_arrested = police.is_arrested.astype('bool')\n",
    "police.info()"
   ]
  },
  {
   "cell_type": "code",
   "execution_count": 71,
   "id": "d9c4dc0b",
   "metadata": {},
   "outputs": [
    {
     "data": {
      "text/html": [
       "<div>\n",
       "<style scoped>\n",
       "    .dataframe tbody tr th:only-of-type {\n",
       "        vertical-align: middle;\n",
       "    }\n",
       "\n",
       "    .dataframe tbody tr th {\n",
       "        vertical-align: top;\n",
       "    }\n",
       "\n",
       "    .dataframe thead th {\n",
       "        text-align: right;\n",
       "    }\n",
       "</style>\n",
       "<table border=\"1\" class=\"dataframe\">\n",
       "  <thead>\n",
       "    <tr style=\"text-align: right;\">\n",
       "      <th></th>\n",
       "      <th>stop_date</th>\n",
       "      <th>stop_time</th>\n",
       "      <th>driver_gender</th>\n",
       "      <th>driver_race</th>\n",
       "      <th>violation_raw</th>\n",
       "      <th>violation</th>\n",
       "      <th>search_conducted</th>\n",
       "      <th>search_type</th>\n",
       "      <th>stop_outcome</th>\n",
       "      <th>is_arrested</th>\n",
       "      <th>stop_duration</th>\n",
       "      <th>drugs_related_stop</th>\n",
       "      <th>district</th>\n",
       "    </tr>\n",
       "  </thead>\n",
       "  <tbody>\n",
       "    <tr>\n",
       "      <th>0</th>\n",
       "      <td>2005-01-04</td>\n",
       "      <td>12:55</td>\n",
       "      <td>M</td>\n",
       "      <td>White</td>\n",
       "      <td>Equipment/Inspection Violation</td>\n",
       "      <td>Equipment</td>\n",
       "      <td>False</td>\n",
       "      <td>NaN</td>\n",
       "      <td>Citation</td>\n",
       "      <td>False</td>\n",
       "      <td>0-15 Min</td>\n",
       "      <td>False</td>\n",
       "      <td>Zone X4</td>\n",
       "    </tr>\n",
       "    <tr>\n",
       "      <th>1</th>\n",
       "      <td>2005-01-23</td>\n",
       "      <td>23:15</td>\n",
       "      <td>M</td>\n",
       "      <td>White</td>\n",
       "      <td>Speeding</td>\n",
       "      <td>Speeding</td>\n",
       "      <td>False</td>\n",
       "      <td>NaN</td>\n",
       "      <td>Citation</td>\n",
       "      <td>False</td>\n",
       "      <td>0-15 Min</td>\n",
       "      <td>False</td>\n",
       "      <td>Zone K3</td>\n",
       "    </tr>\n",
       "    <tr>\n",
       "      <th>2</th>\n",
       "      <td>2005-02-17</td>\n",
       "      <td>04:15</td>\n",
       "      <td>M</td>\n",
       "      <td>White</td>\n",
       "      <td>Speeding</td>\n",
       "      <td>Speeding</td>\n",
       "      <td>False</td>\n",
       "      <td>NaN</td>\n",
       "      <td>Citation</td>\n",
       "      <td>False</td>\n",
       "      <td>0-15 Min</td>\n",
       "      <td>False</td>\n",
       "      <td>Zone X4</td>\n",
       "    </tr>\n",
       "    <tr>\n",
       "      <th>3</th>\n",
       "      <td>2005-02-20</td>\n",
       "      <td>17:15</td>\n",
       "      <td>M</td>\n",
       "      <td>White</td>\n",
       "      <td>Call for Service</td>\n",
       "      <td>Other</td>\n",
       "      <td>False</td>\n",
       "      <td>NaN</td>\n",
       "      <td>Arrest Driver</td>\n",
       "      <td>True</td>\n",
       "      <td>16-30 Min</td>\n",
       "      <td>False</td>\n",
       "      <td>Zone X1</td>\n",
       "    </tr>\n",
       "    <tr>\n",
       "      <th>4</th>\n",
       "      <td>2005-02-24</td>\n",
       "      <td>01:20</td>\n",
       "      <td>F</td>\n",
       "      <td>White</td>\n",
       "      <td>Speeding</td>\n",
       "      <td>Speeding</td>\n",
       "      <td>False</td>\n",
       "      <td>NaN</td>\n",
       "      <td>Citation</td>\n",
       "      <td>False</td>\n",
       "      <td>0-15 Min</td>\n",
       "      <td>False</td>\n",
       "      <td>Zone X3</td>\n",
       "    </tr>\n",
       "  </tbody>\n",
       "</table>\n",
       "</div>"
      ],
      "text/plain": [
       "    stop_date stop_time driver_gender driver_race  \\\n",
       "0  2005-01-04     12:55             M       White   \n",
       "1  2005-01-23     23:15             M       White   \n",
       "2  2005-02-17     04:15             M       White   \n",
       "3  2005-02-20     17:15             M       White   \n",
       "4  2005-02-24     01:20             F       White   \n",
       "\n",
       "                    violation_raw  violation  search_conducted search_type  \\\n",
       "0  Equipment/Inspection Violation  Equipment             False         NaN   \n",
       "1                        Speeding   Speeding             False         NaN   \n",
       "2                        Speeding   Speeding             False         NaN   \n",
       "3                Call for Service      Other             False         NaN   \n",
       "4                        Speeding   Speeding             False         NaN   \n",
       "\n",
       "    stop_outcome  is_arrested stop_duration  drugs_related_stop district  \n",
       "0       Citation        False      0-15 Min               False  Zone X4  \n",
       "1       Citation        False      0-15 Min               False  Zone K3  \n",
       "2       Citation        False      0-15 Min               False  Zone X4  \n",
       "3  Arrest Driver         True     16-30 Min               False  Zone X1  \n",
       "4       Citation        False      0-15 Min               False  Zone X3  "
      ]
     },
     "execution_count": 71,
     "metadata": {},
     "output_type": "execute_result"
    }
   ],
   "source": [
    "police.head()"
   ]
  },
  {
   "cell_type": "markdown",
   "id": "c89fa96f",
   "metadata": {},
   "source": [
    "### d. Merging date and time columns"
   ]
  },
  {
   "cell_type": "markdown",
   "id": "40566f27",
   "metadata": {},
   "source": [
    "It is a bit wasteful that <code>stop_date</code> column and <code>stop_time</code> column are separated. Merge <code>stop_date</code> column and <code>stop_time</code> into <code>stop_datetime</code> column and change the data type into datetime"
   ]
  },
  {
   "cell_type": "code",
   "execution_count": 72,
   "id": "dc5c2788",
   "metadata": {},
   "outputs": [],
   "source": [
    "police['stop_datetime'] = police.stop_date.str.cat(police.stop_time, sep= ' ')\n",
    "police['stop_datetime'] = pd.to_datetime(police['stop_datetime'])\n",
    "police.drop(['stop_date', 'stop_time'], axis='columns', inplace= True)\n",
    "police.set_index('stop_datetime', inplace= True)"
   ]
  },
  {
   "cell_type": "code",
   "execution_count": 73,
   "id": "e2c85594",
   "metadata": {},
   "outputs": [
    {
     "name": "stdout",
     "output_type": "stream",
     "text": [
      "<class 'pandas.core.frame.DataFrame'>\n",
      "DatetimeIndex: 86536 entries, 2005-01-04 12:55:00 to 2015-12-31 22:47:00\n",
      "Data columns (total 11 columns):\n",
      " #   Column              Non-Null Count  Dtype \n",
      "---  ------              --------------  ----- \n",
      " 0   driver_gender       86536 non-null  object\n",
      " 1   driver_race         86536 non-null  object\n",
      " 2   violation_raw       86536 non-null  object\n",
      " 3   violation           86536 non-null  object\n",
      " 4   search_conducted    86536 non-null  bool  \n",
      " 5   search_type         3307 non-null   object\n",
      " 6   stop_outcome        86536 non-null  object\n",
      " 7   is_arrested         86536 non-null  bool  \n",
      " 8   stop_duration       86536 non-null  object\n",
      " 9   drugs_related_stop  86536 non-null  bool  \n",
      " 10  district            86536 non-null  object\n",
      "dtypes: bool(3), object(8)\n",
      "memory usage: 6.2+ MB\n"
     ]
    }
   ],
   "source": [
    "police.info()"
   ]
  },
  {
   "cell_type": "markdown",
   "id": "977011e0",
   "metadata": {},
   "source": [
    "#### Data has been cleaned out and ready for further analysis\n"
   ]
  },
  {
   "cell_type": "markdown",
   "id": "66502e91",
   "metadata": {},
   "source": [
    "# Question & Analysis\n",
    "- Is gender affecting the number of violations?\n",
    "- Which violation has the highest number for every gender? \n",
    "- Which gender gets the most search_conducted? \n",
    "- Drugs related stop and arrest trend\n",
    "- Which violation that need to be searched and arrested for? Is it related to drugs?\n",
    "- Which violation has a higher arrest number?\n",
    "- Which district has the most violations? Is it related to drugs?\n",
    "- Does time of day affect the violation number?\n",
    "- How long might you stop for a violation?"
   ]
  },
  {
   "cell_type": "markdown",
   "id": "b8477031",
   "metadata": {},
   "source": [
    "### Q1: Is Gender effect to number of violation?"
   ]
  },
  {
   "cell_type": "code",
   "execution_count": 74,
   "id": "1ebe0c2b",
   "metadata": {},
   "outputs": [
    {
     "name": "stdout",
     "output_type": "stream",
     "text": [
      "Number of Violation per Gender\n"
     ]
    },
    {
     "data": {
      "text/html": [
       "<div>\n",
       "<style scoped>\n",
       "    .dataframe tbody tr th:only-of-type {\n",
       "        vertical-align: middle;\n",
       "    }\n",
       "\n",
       "    .dataframe tbody tr th {\n",
       "        vertical-align: top;\n",
       "    }\n",
       "\n",
       "    .dataframe thead th {\n",
       "        text-align: right;\n",
       "    }\n",
       "</style>\n",
       "<table border=\"1\" class=\"dataframe\">\n",
       "  <thead>\n",
       "    <tr style=\"text-align: right;\">\n",
       "      <th>violation</th>\n",
       "      <th>Equipment</th>\n",
       "      <th>Moving violation</th>\n",
       "      <th>Other</th>\n",
       "      <th>Registration/plates</th>\n",
       "      <th>Seat belt</th>\n",
       "      <th>Speeding</th>\n",
       "      <th>All</th>\n",
       "    </tr>\n",
       "    <tr>\n",
       "      <th>driver_gender</th>\n",
       "      <th></th>\n",
       "      <th></th>\n",
       "      <th></th>\n",
       "      <th></th>\n",
       "      <th></th>\n",
       "      <th></th>\n",
       "      <th></th>\n",
       "    </tr>\n",
       "  </thead>\n",
       "  <tbody>\n",
       "    <tr>\n",
       "      <th>F</th>\n",
       "      <td>2501</td>\n",
       "      <td>3286</td>\n",
       "      <td>707</td>\n",
       "      <td>1056</td>\n",
       "      <td>578</td>\n",
       "      <td>15646</td>\n",
       "      <td>23774</td>\n",
       "    </tr>\n",
       "    <tr>\n",
       "      <th>M</th>\n",
       "      <td>8420</td>\n",
       "      <td>12938</td>\n",
       "      <td>3702</td>\n",
       "      <td>2647</td>\n",
       "      <td>2278</td>\n",
       "      <td>32777</td>\n",
       "      <td>62762</td>\n",
       "    </tr>\n",
       "    <tr>\n",
       "      <th>All</th>\n",
       "      <td>10921</td>\n",
       "      <td>16224</td>\n",
       "      <td>4409</td>\n",
       "      <td>3703</td>\n",
       "      <td>2856</td>\n",
       "      <td>48423</td>\n",
       "      <td>86536</td>\n",
       "    </tr>\n",
       "  </tbody>\n",
       "</table>\n",
       "</div>"
      ],
      "text/plain": [
       "violation      Equipment  Moving violation  Other  Registration/plates  \\\n",
       "driver_gender                                                            \n",
       "F                   2501              3286    707                 1056   \n",
       "M                   8420             12938   3702                 2647   \n",
       "All                10921             16224   4409                 3703   \n",
       "\n",
       "violation      Seat belt  Speeding    All  \n",
       "driver_gender                              \n",
       "F                    578     15646  23774  \n",
       "M                   2278     32777  62762  \n",
       "All                 2856     48423  86536  "
      ]
     },
     "metadata": {},
     "output_type": "display_data"
    },
    {
     "name": "stdout",
     "output_type": "stream",
     "text": [
      "Percentage of Violation per Gender\n"
     ]
    },
    {
     "data": {
      "text/html": [
       "<div>\n",
       "<style scoped>\n",
       "    .dataframe tbody tr th:only-of-type {\n",
       "        vertical-align: middle;\n",
       "    }\n",
       "\n",
       "    .dataframe tbody tr th {\n",
       "        vertical-align: top;\n",
       "    }\n",
       "\n",
       "    .dataframe thead th {\n",
       "        text-align: right;\n",
       "    }\n",
       "</style>\n",
       "<table border=\"1\" class=\"dataframe\">\n",
       "  <thead>\n",
       "    <tr style=\"text-align: right;\">\n",
       "      <th>violation</th>\n",
       "      <th>Equipment</th>\n",
       "      <th>Moving violation</th>\n",
       "      <th>Other</th>\n",
       "      <th>Registration/plates</th>\n",
       "      <th>Seat belt</th>\n",
       "      <th>Speeding</th>\n",
       "    </tr>\n",
       "    <tr>\n",
       "      <th>driver_gender</th>\n",
       "      <th></th>\n",
       "      <th></th>\n",
       "      <th></th>\n",
       "      <th></th>\n",
       "      <th></th>\n",
       "      <th></th>\n",
       "    </tr>\n",
       "  </thead>\n",
       "  <tbody>\n",
       "    <tr>\n",
       "      <th>F</th>\n",
       "      <td>0.229008</td>\n",
       "      <td>0.202539</td>\n",
       "      <td>0.160354</td>\n",
       "      <td>0.285174</td>\n",
       "      <td>0.202381</td>\n",
       "      <td>0.323111</td>\n",
       "    </tr>\n",
       "    <tr>\n",
       "      <th>M</th>\n",
       "      <td>0.770992</td>\n",
       "      <td>0.797461</td>\n",
       "      <td>0.839646</td>\n",
       "      <td>0.714826</td>\n",
       "      <td>0.797619</td>\n",
       "      <td>0.676889</td>\n",
       "    </tr>\n",
       "  </tbody>\n",
       "</table>\n",
       "</div>"
      ],
      "text/plain": [
       "violation      Equipment  Moving violation     Other  Registration/plates  \\\n",
       "driver_gender                                                               \n",
       "F               0.229008          0.202539  0.160354             0.285174   \n",
       "M               0.770992          0.797461  0.839646             0.714826   \n",
       "\n",
       "violation      Seat belt  Speeding  \n",
       "driver_gender                       \n",
       "F               0.202381  0.323111  \n",
       "M               0.797619  0.676889  "
      ]
     },
     "metadata": {},
     "output_type": "display_data"
    }
   ],
   "source": [
    "print('Number of Violation per Gender')\n",
    "display(pd.crosstab(index= police.driver_gender, columns= police.violation, values= police.violation, aggfunc= 'count', margins=True))\n",
    "print('Percentage of Violation per Gender')\n",
    "display(pd.crosstab(index= police.driver_gender, columns= police.violation, values= police.violation, aggfunc= 'count', normalize= 'columns'))"
   ]
  },
  {
   "cell_type": "markdown",
   "id": "8a1d6385",
   "metadata": {},
   "source": [
    "There are a higher number of driver violations for male drivers than for female drivers. <p>\n",
    "For every violation, male drivers tend to get more violations than female drivers. <p>\n",
    "But, there are not enough data to conclude whether gender affects the number of violation"
   ]
  },
  {
   "cell_type": "markdown",
   "id": "2e8501a0",
   "metadata": {},
   "source": [
    "### Q2: Which violation has the highest number for every gender?"
   ]
  },
  {
   "cell_type": "code",
   "execution_count": 75,
   "id": "9cd3df71",
   "metadata": {},
   "outputs": [
    {
     "data": {
      "text/plain": [
       "driver_gender  violation          \n",
       "F              Speeding               15646\n",
       "               Moving violation        3286\n",
       "               Equipment               2501\n",
       "               Registration/plates     1056\n",
       "               Other                    707\n",
       "               Seat belt                578\n",
       "M              Speeding               32777\n",
       "               Moving violation       12938\n",
       "               Equipment               8420\n",
       "               Other                   3702\n",
       "               Registration/plates     2647\n",
       "               Seat belt               2278\n",
       "Name: violation, dtype: int64"
      ]
     },
     "execution_count": 75,
     "metadata": {},
     "output_type": "execute_result"
    }
   ],
   "source": [
    "police.groupby('driver_gender')['violation'].value_counts()"
   ]
  },
  {
   "cell_type": "markdown",
   "id": "3a4deeaa",
   "metadata": {},
   "source": [
    "For both gender, speeding is the most frequent violation.  "
   ]
  },
  {
   "cell_type": "markdown",
   "id": "7727ef3f",
   "metadata": {},
   "source": [
    "### Q3: Which gender get most search_conducted? Which violation that need to be searched for?"
   ]
  },
  {
   "cell_type": "code",
   "execution_count": 76,
   "id": "e4f4e400",
   "metadata": {},
   "outputs": [
    {
     "data": {
      "text/plain": [
       "driver_gender\n",
       "F     456\n",
       "M    2851\n",
       "Name: search_conducted, dtype: int64"
      ]
     },
     "execution_count": 76,
     "metadata": {},
     "output_type": "execute_result"
    }
   ],
   "source": [
    "police.groupby('driver_gender').search_conducted.sum()"
   ]
  },
  {
   "cell_type": "markdown",
   "id": "e77b6da3",
   "metadata": {},
   "source": [
    "From 86536 of violation record, there only 3307 search conducted (around 3.8%) for the driver with 456 where female driver and 2851 where male driver."
   ]
  },
  {
   "cell_type": "markdown",
   "id": "ca0c373b",
   "metadata": {},
   "source": [
    "### Q4: Drugs related stop and arrest trend"
   ]
  },
  {
   "cell_type": "code",
   "execution_count": 77,
   "id": "7ced4f27",
   "metadata": {},
   "outputs": [
    {
     "data": {
      "image/png": "[encoded data removed]",
      "text/plain": [
       "<Figure size 432x288 with 1 Axes>"
      ]
     },
     "metadata": {
      "needs_background": "light"
     },
     "output_type": "display_data"
    }
   ],
   "source": [
    "police.drugs_related_stop.resample('Y').mean().plot()\n",
    "plt.title('Drugs related stop rate')\n",
    "plt.show()"
   ]
  },
  {
   "cell_type": "code",
   "execution_count": 78,
   "id": "e0f634d1",
   "metadata": {},
   "outputs": [
    {
     "data": {
      "image/png": "[encoded data removed]",
      "text/plain": [
       "<Figure size 432x288 with 1 Axes>"
      ]
     },
     "metadata": {
      "needs_background": "light"
     },
     "output_type": "display_data"
    }
   ],
   "source": [
    "police.is_arrested.resample('Y').mean().plot()\n",
    "plt.title('Arrest rate')\n",
    "plt.show()"
   ]
  },
  {
   "cell_type": "markdown",
   "id": "187934e2",
   "metadata": {},
   "source": [
    "From the two graph above, drugs related stop are increasing each year and arrest rate is decreasing since 2016."
   ]
  },
  {
   "cell_type": "markdown",
   "id": "add51882",
   "metadata": {},
   "source": [
    "### Q5: Which violation that need to be searched for? Does it related to drugs?"
   ]
  },
  {
   "cell_type": "code",
   "execution_count": 79,
   "id": "767deab9",
   "metadata": {},
   "outputs": [
    {
     "data": {
      "text/plain": [
       "violation\n",
       "Speeding               1044\n",
       "Moving violation        925\n",
       "Equipment               702\n",
       "Registration/plates     346\n",
       "Other                   200\n",
       "Name: search_conducted, dtype: int64"
      ]
     },
     "execution_count": 79,
     "metadata": {},
     "output_type": "execute_result"
    }
   ],
   "source": [
    "police.groupby(['violation']).search_conducted.sum().nlargest()"
   ]
  },
  {
   "cell_type": "markdown",
   "id": "268ef5a4",
   "metadata": {},
   "source": [
    "Speeding, moving, and equipment violation is the top reason for conducting search protocol on driver. "
   ]
  },
  {
   "cell_type": "code",
   "execution_count": 80,
   "id": "3f7e85a7",
   "metadata": {},
   "outputs": [
    {
     "data": {
      "text/html": [
       "<div>\n",
       "<style scoped>\n",
       "    .dataframe tbody tr th:only-of-type {\n",
       "        vertical-align: middle;\n",
       "    }\n",
       "\n",
       "    .dataframe tbody tr th {\n",
       "        vertical-align: top;\n",
       "    }\n",
       "\n",
       "    .dataframe thead th {\n",
       "        text-align: right;\n",
       "    }\n",
       "</style>\n",
       "<table border=\"1\" class=\"dataframe\">\n",
       "  <thead>\n",
       "    <tr style=\"text-align: right;\">\n",
       "      <th></th>\n",
       "      <th>search_conducted</th>\n",
       "      <th>drugs_related_stop</th>\n",
       "      <th>percentage</th>\n",
       "    </tr>\n",
       "    <tr>\n",
       "      <th>violation</th>\n",
       "      <th></th>\n",
       "      <th></th>\n",
       "      <th></th>\n",
       "    </tr>\n",
       "  </thead>\n",
       "  <tbody>\n",
       "    <tr>\n",
       "      <th>Speeding</th>\n",
       "      <td>1044</td>\n",
       "      <td>292</td>\n",
       "      <td>27.969349</td>\n",
       "    </tr>\n",
       "    <tr>\n",
       "      <th>Moving violation</th>\n",
       "      <td>925</td>\n",
       "      <td>252</td>\n",
       "      <td>27.243243</td>\n",
       "    </tr>\n",
       "    <tr>\n",
       "      <th>Equipment</th>\n",
       "      <td>702</td>\n",
       "      <td>195</td>\n",
       "      <td>27.777778</td>\n",
       "    </tr>\n",
       "    <tr>\n",
       "      <th>Registration/plates</th>\n",
       "      <td>346</td>\n",
       "      <td>52</td>\n",
       "      <td>15.028902</td>\n",
       "    </tr>\n",
       "    <tr>\n",
       "      <th>Other</th>\n",
       "      <td>200</td>\n",
       "      <td>24</td>\n",
       "      <td>12.000000</td>\n",
       "    </tr>\n",
       "    <tr>\n",
       "      <th>Seat belt</th>\n",
       "      <td>90</td>\n",
       "      <td>47</td>\n",
       "      <td>52.222222</td>\n",
       "    </tr>\n",
       "  </tbody>\n",
       "</table>\n",
       "</div>"
      ],
      "text/plain": [
       "                     search_conducted  drugs_related_stop  percentage\n",
       "violation                                                            \n",
       "Speeding                         1044                 292   27.969349\n",
       "Moving violation                  925                 252   27.243243\n",
       "Equipment                         702                 195   27.777778\n",
       "Registration/plates               346                  52   15.028902\n",
       "Other                             200                  24   12.000000\n",
       "Seat belt                          90                  47   52.222222"
      ]
     },
     "execution_count": 80,
     "metadata": {},
     "output_type": "execute_result"
    }
   ],
   "source": [
    "vio1= police.groupby(['violation'])[['search_conducted', 'drugs_related_stop']].sum().sort_values('search_conducted', ascending=False)\n",
    "vio1['percentage'] = vio1.drugs_related_stop*100/vio1.search_conducted\n",
    "vio1"
   ]
  },
  {
   "cell_type": "code",
   "execution_count": 81,
   "id": "049dcfdc",
   "metadata": {},
   "outputs": [
    {
     "data": {
      "image/png": "[encoded data removed]",
      "text/plain": [
       "<Figure size 432x288 with 1 Axes>"
      ]
     },
     "metadata": {
      "needs_background": "light"
     },
     "output_type": "display_data"
    }
   ],
   "source": [
    "vio1[['search_conducted', 'drugs_related_stop']].plot.bar()\n",
    "plt.title('Number of search and drugs related stop')\n",
    "plt.show()"
   ]
  },
  {
   "cell_type": "code",
   "execution_count": 82,
   "id": "ad265a1d",
   "metadata": {},
   "outputs": [
    {
     "name": "stdout",
     "output_type": "stream",
     "text": [
      "number of search conducted: 3307\n",
      "number of search conducted and drugs related stop: 862\n",
      "number of drugs related stop: 862\n"
     ]
    }
   ],
   "source": [
    "print('number of search conducted:',police[police.search_conducted].shape[0])\n",
    "print('number of search conducted and drugs related stop:',police[police.search_conducted & police.drugs_related_stop].shape[0])\n",
    "print('number of drugs related stop:',police[police.drugs_related_stop].shape[0])"
   ]
  },
  {
   "cell_type": "markdown",
   "id": "95f126f7",
   "metadata": {},
   "source": [
    "Based on this fact, drug-related stops happen only if search protocols are conducted. <p>\n",
    "For every violation with search protocol conducted, around 26% of them were drug-related stops. Speeding, moving and equipment violation tend to have a higher percentage of drug-related searches."
   ]
  },
  {
   "cell_type": "markdown",
   "id": "c7eebc6c",
   "metadata": {},
   "source": [
    "### Q6: Which violation with higher arrested number?"
   ]
  },
  {
   "cell_type": "code",
   "execution_count": 83,
   "id": "7dcbbe38",
   "metadata": {},
   "outputs": [
    {
     "data": {
      "text/plain": [
       "violation\n",
       "Moving violation       940\n",
       "Equipment              709\n",
       "Speeding               663\n",
       "Other                  351\n",
       "Registration/plates    340\n",
       "Seat belt               75\n",
       "Name: is_arrested, dtype: int64"
      ]
     },
     "execution_count": 83,
     "metadata": {},
     "output_type": "execute_result"
    }
   ],
   "source": [
    "police.groupby('violation').is_arrested.sum().nlargest(6)"
   ]
  },
  {
   "cell_type": "markdown",
   "id": "2414b479",
   "metadata": {},
   "source": [
    "Moving violation is the violation with highest number of arrested driver."
   ]
  },
  {
   "cell_type": "markdown",
   "id": "46230f83",
   "metadata": {},
   "source": [
    "### Q7: Which district with most violation? Does it related to drugs?"
   ]
  },
  {
   "cell_type": "code",
   "execution_count": 84,
   "id": "d4e251ca",
   "metadata": {},
   "outputs": [
    {
     "data": {
      "text/html": [
       "<div>\n",
       "<style scoped>\n",
       "    .dataframe tbody tr th:only-of-type {\n",
       "        vertical-align: middle;\n",
       "    }\n",
       "\n",
       "    .dataframe tbody tr th {\n",
       "        vertical-align: top;\n",
       "    }\n",
       "\n",
       "    .dataframe thead th {\n",
       "        text-align: right;\n",
       "    }\n",
       "</style>\n",
       "<table border=\"1\" class=\"dataframe\">\n",
       "  <thead>\n",
       "    <tr style=\"text-align: right;\">\n",
       "      <th></th>\n",
       "      <th>violation</th>\n",
       "      <th>search_conducted_count</th>\n",
       "      <th>drugs_related_count</th>\n",
       "      <th>drugs_per_search</th>\n",
       "      <th>search_conducted_norm</th>\n",
       "      <th>drugs_related_norm</th>\n",
       "    </tr>\n",
       "    <tr>\n",
       "      <th>district</th>\n",
       "      <th></th>\n",
       "      <th></th>\n",
       "      <th></th>\n",
       "      <th></th>\n",
       "      <th></th>\n",
       "      <th></th>\n",
       "    </tr>\n",
       "  </thead>\n",
       "  <tbody>\n",
       "    <tr>\n",
       "      <th>Zone X4</th>\n",
       "      <td>22503</td>\n",
       "      <td>1222</td>\n",
       "      <td>327</td>\n",
       "      <td>26.759411</td>\n",
       "      <td>36.951920</td>\n",
       "      <td>37.935035</td>\n",
       "    </tr>\n",
       "    <tr>\n",
       "      <th>Zone K3</th>\n",
       "      <td>19560</td>\n",
       "      <td>909</td>\n",
       "      <td>253</td>\n",
       "      <td>27.832783</td>\n",
       "      <td>27.487148</td>\n",
       "      <td>29.350348</td>\n",
       "    </tr>\n",
       "    <tr>\n",
       "      <th>Zone K2</th>\n",
       "      <td>17662</td>\n",
       "      <td>454</td>\n",
       "      <td>118</td>\n",
       "      <td>25.991189</td>\n",
       "      <td>13.728455</td>\n",
       "      <td>13.689095</td>\n",
       "    </tr>\n",
       "    <tr>\n",
       "      <th>Zone X3</th>\n",
       "      <td>16174</td>\n",
       "      <td>407</td>\n",
       "      <td>82</td>\n",
       "      <td>20.147420</td>\n",
       "      <td>12.307227</td>\n",
       "      <td>9.512761</td>\n",
       "    </tr>\n",
       "    <tr>\n",
       "      <th>Zone K1</th>\n",
       "      <td>8296</td>\n",
       "      <td>288</td>\n",
       "      <td>77</td>\n",
       "      <td>26.736111</td>\n",
       "      <td>8.708800</td>\n",
       "      <td>8.932715</td>\n",
       "    </tr>\n",
       "    <tr>\n",
       "      <th>Zone X1</th>\n",
       "      <td>2341</td>\n",
       "      <td>27</td>\n",
       "      <td>5</td>\n",
       "      <td>18.518519</td>\n",
       "      <td>0.816450</td>\n",
       "      <td>0.580046</td>\n",
       "    </tr>\n",
       "  </tbody>\n",
       "</table>\n",
       "</div>"
      ],
      "text/plain": [
       "          violation  search_conducted_count  drugs_related_count  \\\n",
       "district                                                           \n",
       "Zone X4       22503                    1222                  327   \n",
       "Zone K3       19560                     909                  253   \n",
       "Zone K2       17662                     454                  118   \n",
       "Zone X3       16174                     407                   82   \n",
       "Zone K1        8296                     288                   77   \n",
       "Zone X1        2341                      27                    5   \n",
       "\n",
       "          drugs_per_search  search_conducted_norm  drugs_related_norm  \n",
       "district                                                               \n",
       "Zone X4          26.759411              36.951920           37.935035  \n",
       "Zone K3          27.832783              27.487148           29.350348  \n",
       "Zone K2          25.991189              13.728455           13.689095  \n",
       "Zone X3          20.147420              12.307227            9.512761  \n",
       "Zone K1          26.736111               8.708800            8.932715  \n",
       "Zone X1          18.518519               0.816450            0.580046  "
      ]
     },
     "execution_count": 84,
     "metadata": {},
     "output_type": "execute_result"
    }
   ],
   "source": [
    "vio_district = police.groupby('district')[['violation']].count()\n",
    "vio_district[['search_conducted_count','drugs_related_count']] = police.groupby('district')[['search_conducted','drugs_related_stop']].sum()\n",
    "vio_district['drugs_per_search'] = vio_district['drugs_related_count']*100/vio_district['search_conducted_count']\n",
    "vio_district['search_conducted_norm'] = vio_district['search_conducted_count']*100/vio_district['search_conducted_count'].sum()\n",
    "vio_district['drugs_related_norm'] = vio_district['drugs_related_count']*100/vio_district['drugs_related_count'].sum()\n",
    "vio_district.sort_values('violation', ascending= False)"
   ]
  },
  {
   "cell_type": "code",
   "execution_count": 85,
   "id": "d141cbb7",
   "metadata": {},
   "outputs": [
    {
     "data": {
      "image/png": "[encoded data removed]",
      "text/plain": [
       "<Figure size 648x432 with 1 Axes>"
      ]
     },
     "metadata": {
      "needs_background": "light"
     },
     "output_type": "display_data"
    }
   ],
   "source": [
    "#tes= police.groupby(['district', police.index.hour]).violation.count()\n",
    "\n",
    "#tes2= pd.DataFrame(tes)\n",
    "#tes2.unstack()\n",
    "\n",
    "tes= pd.crosstab(index= police.index.hour, columns= police.district, values= police.violation, aggfunc= 'count', normalize='index')\n",
    "\n",
    "fig, ax= plt.subplots()\n",
    "ax.bar(tes.index, tes['Zone K1'], label= 'Zone K1')\n",
    "ax.bar(tes.index, tes['Zone K2'], label= 'Zone K2', bottom= tes['Zone K1'] )\n",
    "ax.bar(tes.index, tes['Zone K3'], label= 'Zone K3', bottom= tes['Zone K1']+tes['Zone K2'])\n",
    "ax.bar(tes.index, tes['Zone X1'], label= 'Zone X1', bottom= tes['Zone K1']+tes['Zone K2']+tes['Zone K3'])\n",
    "ax.bar(tes.index, tes['Zone X3'], label= 'Zone X3', bottom= tes['Zone K1']+tes['Zone K2']+tes['Zone K3']+tes['Zone X1'])\n",
    "ax.bar(tes.index, tes['Zone X4'], label= 'Zone X4', bottom= tes['Zone K1']+tes['Zone K2']+tes['Zone K3']+tes['Zone X1']+tes['Zone X3'])\n",
    "fig.set_size_inches(9,6)\n",
    "plt.legend(loc='upper right', ncol=3)\n",
    "plt.title('Violation rate per hour')\n",
    "plt.ylabel('Violation rate')\n",
    "plt.xlabel('Hour')\n",
    "plt.show()"
   ]
  },
  {
   "cell_type": "markdown",
   "id": "9befd65b",
   "metadata": {},
   "source": [
    "District X4 is the district with the most violations. From the graph above, Zone X4 always has a big portion of violation rate for every hour followed by Zone K3 and Zone K2. <p>\n",
    "As we know, drug-related stops only happen after conducting search protocol. Zone X4, Zone K3, Zone K2, Zone K1 has the highest percentage of drug-related stops and it is around 25-28%.<p>\n",
    "From the data, drug-related stops tend to be higher where the zone has a higher violation. Over 80% of drug-related stops happen in Zone X4, Zone K3, and Zone K2 which is the top 3 zone with the highest violation. <p> \n",
    "It could be a sign that Zone X4, Zone K3, and Zone K2 have higher crime rates among the other districts and it could be related to drugs. Police need to give extra attention to these 3 districts to give more comfortable living for everyone in that area."
   ]
  },
  {
   "cell_type": "markdown",
   "id": "d451aee0",
   "metadata": {},
   "source": [
    "### Q7: Does time of day effect the violation number?"
   ]
  },
  {
   "cell_type": "code",
   "execution_count": 86,
   "id": "2dbc33ae",
   "metadata": {},
   "outputs": [
    {
     "data": {
      "image/png": "[encoded data removed]",
      "text/plain": [
       "<Figure size 432x288 with 1 Axes>"
      ]
     },
     "metadata": {
      "needs_background": "light"
     },
     "output_type": "display_data"
    }
   ],
   "source": [
    "police.groupby(police.index.hour).violation.count().plot()\n",
    "plt.title('Number of violation')\n",
    "plt.ylabel('Count')\n",
    "plt.xlabel('Time')\n",
    "plt.show()"
   ]
  },
  {
   "cell_type": "markdown",
   "id": "42d3852e",
   "metadata": {},
   "source": [
    "From the graph above, there are rising violations at dawn and around midnight. <p>\n",
    "After 6 AM, the violation number is surging. The peak is at 10 PM. Around 57% is speeding violation, 18% is moving violation, 11% is equipment violation. It could happen because that was the rush hour for people to go to work, school, or shopping. <p>\n",
    "After 9 PM, the violation number is also surging. The peak is at 11 PM. The violation is the same as the peak in the morning with 54% being a speeding violation, 19% being an equipment violation and 18% being a moving violation. At this hour, the rising violation number might be caused by drunk drivers or by criminals who take a chance to conduct their crime."
   ]
  },
  {
   "cell_type": "code",
   "execution_count": 87,
   "id": "2b173fed",
   "metadata": {},
   "outputs": [
    {
     "data": {
      "image/png": "[encoded data removed]",
      "text/plain": [
       "<Figure size 432x288 with 1 Axes>"
      ]
     },
     "metadata": {
      "needs_background": "light"
     },
     "output_type": "display_data"
    }
   ],
   "source": [
    "police.groupby(police.index.hour).search_conducted.sum().plot(label= 'search conducted')\n",
    "police.groupby(police.index.hour).drugs_related_stop.sum().plot(label= 'drugs related stop')\n",
    "police.groupby(police.index.hour).is_arrested.sum().plot(label= 'arrested driver')\n",
    "plt.title('Number of search protocol and arrest')\n",
    "plt.ylabel('Count')\n",
    "plt.xlabel('Time')\n",
    "plt.legend()\n",
    "plt.show()"
   ]
  },
  {
   "cell_type": "markdown",
   "id": "e85190e7",
   "metadata": {},
   "source": [
    "From the graph above, there are rising numbers at midnight. The number of searches and arrested drivers is rising around midnight and plummeting at dawn. It could be a sign that crime and search protocol are related to the hour. The fact that at midnight, only a few people are outside their house, criminals tend to be more active in conducting crime. <p>\n",
    "Police should make a move to reduce the rate by conducting more patrols, expanding patrols area, etc."
   ]
  },
  {
   "cell_type": "markdown",
   "id": "2e6bc489",
   "metadata": {},
   "source": [
    "### Q8: How long might you stopped for a violation?"
   ]
  },
  {
   "cell_type": "code",
   "execution_count": 88,
   "id": "36af6d94",
   "metadata": {
    "scrolled": true
   },
   "outputs": [
    {
     "name": "stdout",
     "output_type": "stream",
     "text": [
      "count of violation: \n",
      " 0-15 Min     69577\n",
      "16-30 Min    13740\n",
      "30+ Min       3219\n",
      "Name: stop_duration, dtype: int64\n",
      "normalize: \n",
      " 0-15 Min     0.804024\n",
      "16-30 Min    0.158778\n",
      "30+ Min      0.037198\n",
      "Name: stop_duration, dtype: float64\n"
     ]
    }
   ],
   "source": [
    "print('count of violation: \\n', police.stop_duration.value_counts())\n",
    "print('normalize: \\n',police.stop_duration.value_counts(normalize=True))"
   ]
  },
  {
   "cell_type": "code",
   "execution_count": 89,
   "id": "e739fbdf",
   "metadata": {},
   "outputs": [
    {
     "data": {
      "image/png": "[encoded data removed]",
      "text/plain": [
       "<Figure size 432x288 with 1 Axes>"
      ]
     },
     "metadata": {
      "needs_background": "light"
     },
     "output_type": "display_data"
    }
   ],
   "source": [
    "stop = pd.crosstab(index=police.stop_outcome, columns= police.stop_duration, normalize= 'index')\n",
    "stop.sort_values('0-15 Min', ascending= False,inplace= True)\n",
    "plt.bar(stop.index, stop['0-15 Min'], label= '0-15 Min')\n",
    "plt.bar(stop.index, stop['16-30 Min'], bottom= stop['0-15 Min'], label= '16-30 Min')\n",
    "plt.bar(stop.index, stop['30+ Min'], bottom= stop['0-15 Min']+stop['16-30 Min'], label= '30+ Min')\n",
    "plt.xticks(rotation=45)\n",
    "plt.show()"
   ]
  },
  {
   "cell_type": "markdown",
   "id": "bc8c6dc2",
   "metadata": {},
   "source": [
    "From the data, there are 69577 records (around 80%) for 0-15 minutes stop, 13740 records (around 16%) are 16-30 minutes stop, and only 3219 records (around 4%) of them are 30+ minutes stop. <p>\n",
    "From the graph, there is a higher rate of 30+ minutes stop whenever there are arrested protocols either for driver or passenger. But, the records count is insignificant if we compare them with citation stop outcome records. So, no conclusion can be made based on the data.  "
   ]
  },
  {
   "cell_type": "markdown",
   "id": "10d74349",
   "metadata": {},
   "source": [
    "# Conclusion"
   ]
  },
  {
   "cell_type": "markdown",
   "id": "af103dbb",
   "metadata": {},
   "source": [
    "There are rising violations after dawn and around midnight. At dawn, the violation could happen because that was the rush hour for people to go to work, school, or shopping. But, around midnight, rising violation numbers could be caused by drunk drivers or by criminals who take a chance to do their crime. Also, based on the data, midnight was the time when the search protocol and the arrested number is the highest. Besides the fact that much of the violation was a speeding violation and could happen because of drunken drivers, midnight was the best time for criminals to conduct a crime. Police should make a move to reduce the rate by conducting more patrols, expanding patrols area, etc. And police should give more attention to higher violation areas with high numbers of drug-related stops like Zone X4, Zone K3, and Zone K2. That area should be the area with the highest crime rate based on the fact that every year, drug-related stops are rising. <p>\n",
    "The stop is efficient. There are around 80% of stops that take 0-15 minutes and around 16% take 16-30 minutes. Only 4% of them took more than 30 minutes and most of them were when the driver/passenger was arrested."
   ]
  }
 ],
 "metadata": {
  "kernelspec": {
   "display_name": "Python 3",
   "language": "python",
   "name": "python3"
  },
  "language_info": {
   "codemirror_mode": {
    "name": "ipython",
    "version": 3
   },
   "file_extension": ".py",
   "mimetype": "text/x-python",
   "name": "python",
   "nbconvert_exporter": "python",
   "pygments_lexer": "ipython3",
   "version": "3.8.8"
  }
 },
 "nbformat": 4,
 "nbformat_minor": 5
}
